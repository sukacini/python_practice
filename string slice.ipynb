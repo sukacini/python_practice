{
 "cells": [
  {
   "cell_type": "markdown",
   "metadata": {},
   "source": [
    "string slice"
   ]
  },
  {
   "cell_type": "code",
   "execution_count": 2,
   "metadata": {},
   "outputs": [
    {
     "data": {
      "text/plain": [
       "'as'"
      ]
     },
     "execution_count": 2,
     "metadata": {},
     "output_type": "execute_result"
    }
   ],
   "source": [
    "s=\"astring\"\n",
    "s[0:2:1]"
   ]
  },
  {
   "cell_type": "code",
   "execution_count": 3,
   "metadata": {},
   "outputs": [
    {
     "name": "stdout",
     "output_type": "stream",
     "text": [
      "stri\n"
     ]
    }
   ],
   "source": [
    "s=\"astring\"\n",
    "print(s[-6:-2])"
   ]
  },
  {
   "cell_type": "code",
   "execution_count": 4,
   "metadata": {},
   "outputs": [
    {
     "name": "stdout",
     "output_type": "stream",
     "text": [
      "g\n"
     ]
    }
   ],
   "source": [
    "s=\"astring\"\n",
    "print(s[6])"
   ]
  },
  {
   "cell_type": "markdown",
   "metadata": {},
   "source": [
    "immutable"
   ]
  },
  {
   "cell_type": "code",
   "execution_count": 111,
   "metadata": {},
   "outputs": [
    {
     "name": "stdout",
     "output_type": "stream",
     "text": [
      "ashring\n",
      "astring\n",
      "gnirtsa\n"
     ]
    }
   ],
   "source": [
    "s=\"astring\"\n",
    "a=s.replace(\"t\",\"h\")\n",
    "s=s.lower()\n",
    "b=s.upper()\n",
    "c=s.encode()\n",
    "d=s[::-1]\n",
    "print(a)\n",
    "print(s)\n",
    "print(d)\n"
   ]
  },
  {
   "cell_type": "markdown",
   "metadata": {},
   "source": [
    "string reverse"
   ]
  },
  {
   "cell_type": "code",
   "execution_count": 112,
   "metadata": {},
   "outputs": [
    {
     "name": "stdout",
     "output_type": "stream",
     "text": [
      "olleh\n"
     ]
    }
   ],
   "source": [
    "def rev(s):\n",
    "    d=s[::-1]\n",
    "    return d\n",
    "s=\"hello\"\n",
    "reverse=rev(s)\n",
    "print(reverse)"
   ]
  },
  {
   "cell_type": "markdown",
   "metadata": {},
   "source": []
  },
  {
   "cell_type": "code",
   "execution_count": 119,
   "metadata": {},
   "outputs": [
    {
     "ename": "IndentationError",
     "evalue": "expected an indented block after function definition on line 1 (1277012756.py, line 3)",
     "output_type": "error",
     "traceback": [
      "\u001b[1;36m  Cell \u001b[1;32mIn[119], line 3\u001b[1;36m\u001b[0m\n\u001b[1;33m    for i in string:\u001b[0m\n\u001b[1;37m    ^\u001b[0m\n\u001b[1;31mIndentationError\u001b[0m\u001b[1;31m:\u001b[0m expected an indented block after function definition on line 1\n"
     ]
    }
   ],
   "source": [
    "def vow(s):\n",
    "\n",
    "for i in string: \n",
    "      if(i=='a' or i=='e' or i=='i' or i=='o' or i=='u'):\n",
    "      \n",
    "string=input(\"Enter string:\")\n",
    "\n",
    "print(\"Number of vowels are:\")\n",
    "print(vowels)"
   ]
  },
  {
   "cell_type": "code",
   "execution_count": 131,
   "metadata": {},
   "outputs": [
    {
     "name": "stdout",
     "output_type": "stream",
     "text": [
      "0 x = 0\n",
      "1 x = 1\n",
      "2 x = 4\n",
      "3 x = 9\n",
      "4 x = 16\n",
      "5 x = 25\n",
      "6 x = 36\n",
      "7 x = 49\n",
      "8 x = 64\n",
      "9 x = 81\n",
      "10 x = 100\n"
     ]
    }
   ],
   "source": [
    "for i in range(0,11):\n",
    "    print(i,\"x\" ,\"=\",i*i)\n"
   ]
  },
  {
   "cell_type": "code",
   "execution_count": 6,
   "metadata": {},
   "outputs": [
    {
     "name": "stdout",
     "output_type": "stream",
     "text": [
      "D\n"
     ]
    }
   ],
   "source": [
    "l=[1,2.5,\"d\",\"hi\"]\n",
    "d=l[-2].upper()\n",
    "print(d)"
   ]
  },
  {
   "cell_type": "code",
   "execution_count": 64,
   "metadata": {},
   "outputs": [
    {
     "name": "stdout",
     "output_type": "stream",
     "text": [
      "the result is 24\n",
      "the sum 56+78=24\n"
     ]
    }
   ],
   "source": [
    "def add(a,b):\n",
    "    c=a+b\n",
    "    return c\n",
    "i=int(input(\"enter1 :\"))\n",
    "u=int(input(\"enter2 :\"))\n",
    "result=add(i,u)\n",
    "print(\"the result is\",result)\n",
    "print(\"the sum {}+{}={}\".format(i,u,result))\n",
    "\n",
    "\n"
   ]
  },
  {
   "cell_type": "code",
   "execution_count": 21,
   "metadata": {},
   "outputs": [
    {
     "name": "stdout",
     "output_type": "stream",
     "text": [
      "hello\n",
      "       world\n"
     ]
    }
   ],
   "source": [
    "print('''hello\n",
    "       world''')"
   ]
  },
  {
   "cell_type": "markdown",
   "metadata": {},
   "source": [
    "print in %s placeholder"
   ]
  },
  {
   "cell_type": "code",
   "execution_count": 53,
   "metadata": {},
   "outputs": [
    {
     "name": "stdout",
     "output_type": "stream",
     "text": [
      "the value 10 ['hello', 34, 's'] 6.79\n",
      "the value is 10 ['hello', 34, 's'] 6.7906\n",
      "the value 10 ['hello', 34, 's'] \n"
     ]
    }
   ],
   "source": [
    "a=10\n",
    "b=[\"hello\",34,\"s\"]\n",
    "c=6.7906\n",
    "print(\"the value %d %s %2.2f\" %(a,b,c))\n",
    "print(\"the value is {} {} {}\".format(a,b,c))\n",
    "print(f\"the value {a} {b} \")"
   ]
  },
  {
   "cell_type": "code",
   "execution_count": 87,
   "metadata": {},
   "outputs": [
    {
     "name": "stdout",
     "output_type": "stream",
     "text": [
      "hello my name is sathya my age25 my city covai\n",
      "hello my name is muthu my age25 my city covai\n",
      "hello my name is muthu my age25 my city chennai\n"
     ]
    }
   ],
   "source": [
    "def name(name,age,city=\"chennai\",*addrees):\n",
    "    print(f\"hello my name is {name} my age{age} my city {city}\")\n",
    "name(\"sathya\",25,\"covai\",\"as\" ,\"er\" ,\"bn\")\n",
    "name(name=\"muthu\",age=25,city=\"covai\")\n",
    "name(name=\"muthu\",age=25)\n",
    "\n"
   ]
  },
  {
   "cell_type": "code",
   "execution_count": 177,
   "metadata": {},
   "outputs": [
    {
     "name": "stdout",
     "output_type": "stream",
     "text": [
      "hello my name is sathya my age25 my city covai\n",
      "Hobbies: s, d\n",
      "add:hvuh,kjhjkhk,iohioh\n",
      "hello my name is muthu my age25 my city covai\n",
      "Hobbies: sd, df\n",
      "add:dgh\n",
      "hello my name is muthu my age27 my city chennai\n",
      "Hobbies: \n"
     ]
    }
   ],
   "source": [
    "def name(name,age,city=\"chennai\",*hobbies,**add):\n",
    "    print(f\"hello my name is {name} my age{age} my city {city}\")\n",
    "    print(\"Hobbies:\", \", \".join(hobbies))\n",
    "    for key,value in add.items():\n",
    "        print(f\"{key}:{value}\")\n",
    "name(\"sathya\",25,\"covai\",\"s\",\"d\",add=\"hvuh,kjhjkhk,iohioh\")\n",
    "name(\"muthu\",25,\"covai\",\"sd\",\"df\",add=\"dgh\")\n",
    "name(name=\"muthu\",age=27)\n"
   ]
  },
  {
   "cell_type": "code",
   "execution_count": 190,
   "metadata": {},
   "outputs": [
    {
     "name": "stdout",
     "output_type": "stream",
     "text": [
      "a value 56\n"
     ]
    }
   ],
   "source": [
    "dict={\"a\":80,\"b\":90}\n",
    "dict[\"a\"]=0\n",
    "print(f\"a value {a}\")"
   ]
  },
  {
   "cell_type": "code",
   "execution_count": 1,
   "metadata": {},
   "outputs": [
    {
     "name": "stdout",
     "output_type": "stream",
     "text": [
      "even\n"
     ]
    }
   ],
   "source": [
    "a=int(input())\n",
    "if(a%2==0):\n",
    "    print(\"even\")\n",
    "else:\n",
    "    print(\"odd\")"
   ]
  },
  {
   "cell_type": "code",
   "execution_count": 92,
   "metadata": {},
   "outputs": [
    {
     "name": "stdout",
     "output_type": "stream",
     "text": [
      "Name: Alice\n",
      "Age: 30\n",
      "Hobbies: Reading, Traveling\n",
      "city: New York\n",
      "profession: Engineer\n"
     ]
    }
   ],
   "source": [
    "def describe_person(name, age, *hobbies, **attributes):\n",
    "    print(f\"Name: {name}\")\n",
    "    print(f\"Age: {age}\")\n",
    "    print(\"Hobbies:\", \", \".join(hobbies))\n",
    "    for key, value in attributes.items():\n",
    "        print(f\"{key}: {value}\")\n",
    "\n",
    "# Call the function with a combination of arguments\n",
    "describe_person(\"Alice\", 30, \"Reading\", \"Traveling\", city=\"New York\", profession=\"Engineer\")"
   ]
  },
  {
   "cell_type": "code",
   "execution_count": 11,
   "metadata": {},
   "outputs": [
    {
     "name": "stdout",
     "output_type": "stream",
     "text": [
      "good\n"
     ]
    }
   ],
   "source": [
    "score=int(input())\n",
    "if(score==45):\n",
    "    print(\"poor\")\n",
    "\n",
    "else:\n",
    "    print(\"good\")\n",
    "\n",
    "\n"
   ]
  },
  {
   "cell_type": "code",
   "execution_count": 3,
   "metadata": {},
   "outputs": [
    {
     "name": "stdout",
     "output_type": "stream",
     "text": [
      "a\n",
      "p\n",
      "p\n",
      "l\n",
      "e\n"
     ]
    }
   ],
   "source": [
    "a=\"apple\"\n",
    "for i in a:\n",
    "    print(i)"
   ]
  },
  {
   "cell_type": "code",
   "execution_count": 6,
   "metadata": {},
   "outputs": [
    {
     "name": "stdout",
     "output_type": "stream",
     "text": [
      "1 x 2 = 2\n",
      "2 x 2 = 4\n",
      "3 x 2 = 6\n",
      "4 x 2 = 8\n",
      "5 x 2 = 10\n",
      "6 x 2 = 12\n",
      "7 x 2 = 14\n",
      "8 x 2 = 16\n",
      "9 x 2 = 18\n",
      "10 x 2 = 20\n"
     ]
    }
   ],
   "source": [
    "for i in range(1,11):\n",
    "    print(i,\"x 2 =\",i*2)"
   ]
  },
  {
   "cell_type": "code",
   "execution_count": 133,
   "metadata": {},
   "outputs": [
    {
     "name": "stdout",
     "output_type": "stream",
     "text": [
      "1\n",
      "2\n",
      "2\n"
     ]
    }
   ],
   "source": [
    "count=0\n",
    "for i in range(1,5):\n",
    "    if(i%2==0):\n",
    "        count=count+1\n",
    "        print(count)\n",
    "print(count)"
   ]
  },
  {
   "cell_type": "code",
   "execution_count": 140,
   "metadata": {},
   "outputs": [
    {
     "name": "stdout",
     "output_type": "stream",
     "text": [
      " # # # # # # # #\n",
      " # # # # # # # #\n",
      " # # # # # # # #\n",
      " # # # # # # # #\n",
      " # # # # # # # #\n",
      " # # # # # # # #\n",
      " # # # # # # # #\n",
      " # # # # # # # #\n"
     ]
    }
   ],
   "source": [
    "for i in range(1,9):\n",
    "    for j in range(1,9):\n",
    "        print(\" #\",end=\"\")\n",
    "    print()"
   ]
  },
  {
   "cell_type": "code",
   "execution_count": 22,
   "metadata": {},
   "outputs": [
    {
     "name": "stdout",
     "output_type": "stream",
     "text": [
      "6\n"
     ]
    }
   ],
   "source": [
    "count=0\n",
    "for i in range(1,101):\n",
    "    if(i%3==0 and i%5==0):\n",
    "        count=count+1\n",
    "print(count)"
   ]
  },
  {
   "cell_type": "code",
   "execution_count": 26,
   "metadata": {},
   "outputs": [
    {
     "name": "stdout",
     "output_type": "stream",
     "text": [
      "15\n"
     ]
    }
   ],
   "source": [
    "sum=0\n",
    "for i in range(1,6):\n",
    "    sum=sum+i\n",
    "print(sum)"
   ]
  },
  {
   "cell_type": "code",
   "execution_count": 33,
   "metadata": {},
   "outputs": [
    {
     "name": "stdout",
     "output_type": "stream",
     "text": [
      "[1, 2, 3, 4, 5, 6, 7, 8, 9, 0]\n"
     ]
    }
   ],
   "source": [
    "a=[]\n",
    "for i in range(10):\n",
    "    num=int(input(\"enter number\"+str(i)))\n",
    "    a.append(num)\n",
    "print(a)"
   ]
  },
  {
   "cell_type": "code",
   "execution_count": 2,
   "metadata": {},
   "outputs": [
    {
     "name": "stdout",
     "output_type": "stream",
     "text": [
      "1\n",
      "2\n",
      "3\n",
      "4\n",
      "5\n",
      "6\n",
      "7\n"
     ]
    }
   ],
   "source": [
    "a=[]\n",
    "for i in range(7):\n",
    "    num=int(input(\"enter number\"+str(i)))\n",
    "    a.append(num)\n",
    "    \n",
    "sum=0\n",
    "for i in a:\n",
    "    sum=sum+i\n",
    "    print(sum)"
   ]
  },
  {
   "cell_type": "code",
   "execution_count": 73,
   "metadata": {},
   "outputs": [
    {
     "name": "stdout",
     "output_type": "stream",
     "text": [
      "\n",
      "**\n",
      "**\n",
      "**\n",
      "**\n",
      "**\n",
      "**\n",
      "**"
     ]
    }
   ],
   "source": [
    "\n",
    "for i in range(1,8):\n",
    "    print()\n",
    "    for j in range (1,3):\n",
    "        print(\"*\",end=\"\")\n",
    "    "
   ]
  },
  {
   "cell_type": "code",
   "execution_count": 78,
   "metadata": {},
   "outputs": [
    {
     "name": "stdout",
     "output_type": "stream",
     "text": [
      "1\n",
      "2\n",
      "3\n",
      "4\n"
     ]
    }
   ],
   "source": [
    "i=1\n",
    "while(i<5):\n",
    "    print(i)\n",
    "    i=i+1"
   ]
  },
  {
   "cell_type": "code",
   "execution_count": 87,
   "metadata": {},
   "outputs": [
    {
     "name": "stdout",
     "output_type": "stream",
     "text": [
      "None\n",
      "the sum 23+23=None\n",
      "the result is 46\n",
      "the sum 23+23=46\n"
     ]
    }
   ],
   "source": [
    "def func(a,b):\n",
    "    add=a+b\n",
    "    \n",
    "c1=int(input())\n",
    "c2=int(input())\n",
    "reult=func(c1,c2)\n",
    "print(reult)\n",
    "print(\"the sum {}+{}={}\".format(c1,c2,reult))\n",
    "\n",
    "def add(a,b):\n",
    "    c=a+b\n",
    "    return c\n",
    "i=int(input(\"enter1 :\"))\n",
    "u=int(input(\"enter2 :\"))\n",
    "result=add(i,u)\n",
    "print(\"the result is\",result)\n",
    "print(\"the sum {}+{}={}\".format(i,u,result))\n"
   ]
  },
  {
   "cell_type": "code",
   "execution_count": 90,
   "metadata": {},
   "outputs": [
    {
     "name": "stdout",
     "output_type": "stream",
     "text": [
      "odd\n"
     ]
    }
   ],
   "source": [
    "def findevenorodd():\n",
    "    if(a%2==0):\n",
    "        print(\"even\")\n",
    "    else:\n",
    "        print(\"odd\")\n",
    "a=int(input())\n",
    "findevenorodd()"
   ]
  },
  {
   "cell_type": "code",
   "execution_count": 104,
   "metadata": {},
   "outputs": [
    {
     "ename": "TypeError",
     "evalue": "'int' object is not callable",
     "output_type": "error",
     "traceback": [
      "\u001b[1;31m---------------------------------------------------------------------------\u001b[0m",
      "\u001b[1;31mTypeError\u001b[0m                                 Traceback (most recent call last)",
      "Cell \u001b[1;32mIn[104], line 7\u001b[0m\n\u001b[0;32m      3\u001b[0m   \u001b[38;5;28;01mreturn\u001b[39;00m (avg)\n\u001b[0;32m      5\u001b[0m num1 \u001b[38;5;241m=\u001b[39m(\u001b[38;5;241m1\u001b[39m,\u001b[38;5;241m2\u001b[39m,\u001b[38;5;241m3\u001b[39m,\u001b[38;5;241m4\u001b[39m,\u001b[38;5;241m6\u001b[39m,\u001b[38;5;241m7\u001b[39m,\u001b[38;5;241m8\u001b[39m)\n\u001b[1;32m----> 7\u001b[0m avg\u001b[38;5;241m=\u001b[39m\u001b[43maverage\u001b[49m\u001b[43m(\u001b[49m\u001b[43mnum1\u001b[49m\u001b[43m)\u001b[49m\n\u001b[0;32m      8\u001b[0m \u001b[38;5;28mprint\u001b[39m(avg)\n",
      "Cell \u001b[1;32mIn[104], line 2\u001b[0m, in \u001b[0;36maverage\u001b[1;34m(num1)\u001b[0m\n\u001b[0;32m      1\u001b[0m \u001b[38;5;28;01mdef\u001b[39;00m \u001b[38;5;21maverage\u001b[39m(num1): \n\u001b[1;32m----> 2\u001b[0m   total\u001b[38;5;241m=\u001b[39m\u001b[38;5;28;43msum\u001b[39;49m\u001b[43m(\u001b[49m\u001b[43mnum1\u001b[49m\u001b[43m)\u001b[49m\u001b[38;5;241m/\u001b[39m\u001b[38;5;28mlen\u001b[39m(num1)\n\u001b[0;32m      3\u001b[0m   \u001b[38;5;28;01mreturn\u001b[39;00m (avg)\n",
      "\u001b[1;31mTypeError\u001b[0m: 'int' object is not callable"
     ]
    }
   ],
   "source": [
    "def average(num1): \n",
    "  total=sum(num1)/len(num1)\n",
    "  return (avg)\n",
    "\n",
    "num1 =(1,2,3,4,6,7,8)\n",
    "\n",
    "avg=average(num1)\n",
    "print(avg)"
   ]
  },
  {
   "cell_type": "code",
   "execution_count": 108,
   "metadata": {},
   "outputs": [
    {
     "name": "stdout",
     "output_type": "stream",
     "text": [
      "The largest number is: 5\n"
     ]
    }
   ],
   "source": [
    "def find_largest(numbers):\n",
    "    if not numbers:  # Check if the list is empty\n",
    "        return None\n",
    "    largest = numbers[2]\n",
    "    for number in numbers:\n",
    "        if number > largest:\n",
    "            largest = number\n",
    "    return largest\n",
    "numbers = [1, 2, 3, 4, 5]\n",
    "largest = find_largest(numbers)\n",
    "print(\"The largest number is:\", largest)"
   ]
  },
  {
   "cell_type": "code",
   "execution_count": 142,
   "metadata": {},
   "outputs": [
    {
     "name": "stdout",
     "output_type": "stream",
     "text": [
      "#\n",
      "##\n",
      "###\n",
      "####\n",
      "#####\n",
      "######\n",
      "#######\n",
      "########\n"
     ]
    }
   ],
   "source": [
    "for i in range(1,9):\n",
    "    for j in range(1,i+1):\n",
    "        print(\"#\",end=\"\")\n",
    "    print()\n"
   ]
  },
  {
   "cell_type": "code",
   "execution_count": 144,
   "metadata": {},
   "outputs": [
    {
     "name": "stdout",
     "output_type": "stream",
     "text": [
      "odd\n",
      "even\n",
      "odd\n",
      "even\n",
      "odd\n",
      "even\n",
      "odd\n",
      "even\n",
      "odd\n"
     ]
    }
   ],
   "source": [
    "a=int(input())\n",
    "b=int(input())\n",
    "for i in range(a,b):\n",
    "    if(i%2==0):\n",
    "        print(\"even\")\n",
    "    else:\n",
    "        print(\"odd\")"
   ]
  },
  {
   "cell_type": "code",
   "execution_count": 153,
   "metadata": {},
   "outputs": [
    {
     "name": "stdout",
     "output_type": "stream",
     "text": [
      "1\n",
      "3\n",
      "5\n",
      "7\n",
      "9\n",
      "11\n",
      "13\n",
      "15\n",
      "17\n",
      "19\n",
      "21\n",
      "23\n",
      "25\n",
      "27\n",
      "29\n",
      "31\n",
      "33\n",
      "35\n",
      "37\n",
      "39\n",
      "41\n",
      "43\n",
      "45\n",
      "47\n",
      "49\n",
      "51\n",
      "53\n",
      "55\n",
      "57\n",
      "59\n",
      "61\n",
      "63\n",
      "65\n",
      "67\n",
      "69\n",
      "71\n",
      "73\n",
      "75\n",
      "77\n",
      "79\n",
      "81\n",
      "83\n",
      "85\n",
      "87\n",
      "89\n",
      "91\n",
      "93\n",
      "95\n",
      "97\n",
      "99\n"
     ]
    }
   ],
   "source": [
    "for i in range(1, 101): \n",
    "    if(i%2!=0):\n",
    "         print(i) "
   ]
  },
  {
   "cell_type": "code",
   "execution_count": 162,
   "metadata": {},
   "outputs": [
    {
     "name": "stdout",
     "output_type": "stream",
     "text": [
      "24849\n"
     ]
    }
   ],
   "source": [
    "for i in range(0,100):\n",
    "    sum=sum+i\n",
    "print(sum)"
   ]
  },
  {
   "cell_type": "code",
   "execution_count": 5,
   "metadata": {},
   "outputs": [
    {
     "name": "stdout",
     "output_type": "stream",
     "text": [
      "J\n"
     ]
    }
   ],
   "source": [
    "name = \"John Doe\" \n",
    "print(name[0])\n",
    "   "
   ]
  },
  {
   "cell_type": "code",
   "execution_count": 23,
   "metadata": {},
   "outputs": [
    {
     "name": "stdout",
     "output_type": "stream",
     "text": [
      "['hello,world!']\n"
     ]
    }
   ],
   "source": [
    "a=[\"hello,world!\"]\n",
    "print(a)"
   ]
  },
  {
   "cell_type": "code",
   "execution_count": 24,
   "metadata": {},
   "outputs": [
    {
     "name": "stdout",
     "output_type": "stream",
     "text": [
      "0\n",
      "0.6\n"
     ]
    }
   ],
   "source": [
    "a=int(input(\"The first line contains the first integer,\"))\n",
    "b=int(input(\"The first line contains the first integer,\"))\n",
    "c=a//b\n",
    "d=a/b\n",
    "print(c)\n",
    "print(float(d))"
   ]
  },
  {
   "cell_type": "code",
   "execution_count": 45,
   "metadata": {},
   "outputs": [
    {
     "name": "stdout",
     "output_type": "stream",
     "text": [
      "2\n",
      "3\n"
     ]
    }
   ],
   "source": [
    "n=int(input())\n",
    "for i in range(n):\n",
    "    for j in range(i,i*i):\n",
    "       print(j)"
   ]
  },
  {
   "cell_type": "markdown",
   "metadata": {},
   "source": [
    "class program"
   ]
  },
  {
   "cell_type": "code",
   "execution_count": 70,
   "metadata": {},
   "outputs": [
    {
     "name": "stdout",
     "output_type": "stream",
     "text": [
      "hello ford red mustang\n",
      "ford red mustang welcome\n"
     ]
    }
   ],
   "source": [
    "class Car:\n",
    "    def info(self,name,colour,brand):\n",
    "        self.name=name\n",
    "        self.colour=colour\n",
    "        self.brand=brand\n",
    "        print(\"hello\",self.name,self.colour,self.brand)\n",
    "ob_1=Car()\n",
    "ob_1.info(\"ford\",\"red\",\"mustang\")\n",
    "print(ob_1.name,ob_1.colour,ob_1.brand,\"welcome\")"
   ]
  }
 ],
 "metadata": {
  "kernelspec": {
   "display_name": "Python 3",
   "language": "python",
   "name": "python3"
  },
  "language_info": {
   "codemirror_mode": {
    "name": "ipython",
    "version": 3
   },
   "file_extension": ".py",
   "mimetype": "text/x-python",
   "name": "python",
   "nbconvert_exporter": "python",
   "pygments_lexer": "ipython3",
   "version": "3.12.4"
  }
 },
 "nbformat": 4,
 "nbformat_minor": 2
}
